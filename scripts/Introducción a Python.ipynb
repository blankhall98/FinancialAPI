{
 "cells": [
  {
   "cell_type": "markdown",
   "metadata": {},
   "source": [
    "# Introducción a Python"
   ]
  },
  {
   "cell_type": "markdown",
   "metadata": {},
   "source": [
    "### 1. Variables"
   ]
  },
  {
   "cell_type": "code",
   "execution_count": 12,
   "metadata": {},
   "outputs": [],
   "source": [
    "nombre = 'joshua'\n",
    "apellido = 'blank'\n",
    "edad = 19"
   ]
  },
  {
   "cell_type": "code",
   "execution_count": 14,
   "metadata": {},
   "outputs": [
    {
     "name": "stdout",
     "output_type": "stream",
     "text": [
      "Buenos días joshua blank , de 19 años de edad.\n"
     ]
    }
   ],
   "source": [
    "print('Buenos días '+nombre+' '+apellido+' , de '+str(edad)+' años de edad.')"
   ]
  },
  {
   "cell_type": "code",
   "execution_count": 15,
   "metadata": {},
   "outputs": [
    {
     "name": "stdout",
     "output_type": "stream",
     "text": [
      "Buenos días joshua blank de 19 años de edad!\n"
     ]
    }
   ],
   "source": [
    "print(f'Buenos días {nombre} {apellido} de {edad} años de edad!')"
   ]
  },
  {
   "cell_type": "code",
   "execution_count": 17,
   "metadata": {},
   "outputs": [
    {
     "name": "stdout",
     "output_type": "stream",
     "text": [
      "El tiempo que toma recorrer 150000000000 metros es de 500.3461427972281 segundos\n"
     ]
    }
   ],
   "source": [
    "velocidad_luz = 299792458\n",
    "\n",
    "distancia = 150000000*1000\n",
    "\n",
    "tiempo = distancia/velocidad_luz\n",
    "\n",
    "print(f'El tiempo que toma recorrer {distancia} metros es de {tiempo} segundos')"
   ]
  },
  {
   "cell_type": "markdown",
   "metadata": {},
   "source": [
    "### 2. Operaciones Lógicas"
   ]
  },
  {
   "cell_type": "code",
   "execution_count": 84,
   "metadata": {},
   "outputs": [
    {
     "name": "stdout",
     "output_type": "stream",
     "text": [
      "No puedes Pasar\n",
      "Vuelve en 1 años\n"
     ]
    }
   ],
   "source": [
    "edad = 16\n",
    "sexo = 'hombre'\n",
    "\n",
    "if sexo == 'Hombre':\n",
    "    edad_minima = 18\n",
    "elif sexo == 'Mujer':\n",
    "    edad_minima = 16\n",
    "else:\n",
    "    edad_minima = 17\n",
    "    \n",
    "if edad >= edad_minima:\n",
    "    print('Puedes Pasar')\n",
    "else:\n",
    "    print('No puedes Pasar')\n",
    "    años_faltantes = edad_minima - edad\n",
    "    print(f'Vuelve en {años_faltantes} años')"
   ]
  },
  {
   "cell_type": "markdown",
   "metadata": {},
   "source": [
    "Login en una aplicación"
   ]
  },
  {
   "cell_type": "code",
   "execution_count": 70,
   "metadata": {},
   "outputs": [
    {
     "name": "stdout",
     "output_type": "stream",
     "text": [
      "Username: jonatan_programa\n",
      "Password: i_love_pasta\n",
      "Puedes Pasar\n"
     ]
    }
   ],
   "source": [
    "#intento de acceso\n",
    "intento_usuario = input('Username: ')\n",
    "intento_password = input('Password: ')\n",
    "\n",
    "#datos guardados\n",
    "usuario = 'jonatan_programa'\n",
    "password = 'i_love_pasta'\n",
    "\n",
    "if usuario == intento_usuario and password == intento_password:\n",
    "    print('Puedes Pasar')\n",
    "else:\n",
    "    print('Usuario o Contraseña incorrectos')"
   ]
  },
  {
   "cell_type": "markdown",
   "metadata": {},
   "source": [
    "### Estructura de Datos"
   ]
  },
  {
   "cell_type": "code",
   "execution_count": 71,
   "metadata": {},
   "outputs": [],
   "source": [
    "amigos = ['Joshua','Abraham','Angel','Benito']"
   ]
  },
  {
   "cell_type": "code",
   "execution_count": 76,
   "metadata": {},
   "outputs": [],
   "source": [
    "#agregar elementos\n",
    "amigos.append('Carlos')"
   ]
  },
  {
   "cell_type": "code",
   "execution_count": 77,
   "metadata": {},
   "outputs": [
    {
     "data": {
      "text/plain": [
       "['Joshua', 'Abraham', 'Angel', 'Benito', 'Carlos']"
      ]
     },
     "execution_count": 77,
     "metadata": {},
     "output_type": "execute_result"
    }
   ],
   "source": [
    "amigos"
   ]
  },
  {
   "cell_type": "code",
   "execution_count": 79,
   "metadata": {},
   "outputs": [
    {
     "name": "stdout",
     "output_type": "stream",
     "text": [
      "Buenos días Joshua\n",
      "Buenos días Abraham\n",
      "Buenos días Angel\n",
      "Buenos días Benito\n",
      "Buenos días Carlos\n"
     ]
    }
   ],
   "source": [
    "for a in amigos:\n",
    "    print(f'Buenos días {a}')"
   ]
  },
  {
   "cell_type": "code",
   "execution_count": 83,
   "metadata": {},
   "outputs": [
    {
     "name": "stdout",
     "output_type": "stream",
     "text": [
      "Joshua\n",
      "Abraham\n",
      "Angel\n",
      "Benito\n",
      "Carlos\n"
     ]
    }
   ],
   "source": [
    "for i in range(len(amigos)):\n",
    "    print(amigos[i])"
   ]
  },
  {
   "cell_type": "markdown",
   "metadata": {},
   "source": [
    "### 3. Funciones"
   ]
  },
  {
   "cell_type": "code",
   "execution_count": 86,
   "metadata": {},
   "outputs": [],
   "source": [
    "def EntradaAntro(edad,sexo):\n",
    "    if sexo == 'Hombre':\n",
    "        edad_minima = 18\n",
    "    elif sexo == 'Mujer':\n",
    "        edad_minima = 16\n",
    "    else:\n",
    "        edad_minima = 17\n",
    "\n",
    "    if edad >= edad_minima:\n",
    "        print('Puedes Pasar')\n",
    "    else:\n",
    "        print('No puedes Pasar')\n",
    "        años_faltantes = edad_minima - edad\n",
    "        print(f'Vuelve en {años_faltantes} años')"
   ]
  },
  {
   "cell_type": "code",
   "execution_count": 90,
   "metadata": {},
   "outputs": [
    {
     "name": "stdout",
     "output_type": "stream",
     "text": [
      "Puedes Pasar\n"
     ]
    }
   ],
   "source": [
    "EntradaAntro(16,'Mujer')"
   ]
  },
  {
   "cell_type": "code",
   "execution_count": 91,
   "metadata": {},
   "outputs": [],
   "source": [
    "def LogIn():\n",
    "    #intento de acceso\n",
    "    intento_usuario = input('Username: ')\n",
    "    intento_password = input('Password: ')\n",
    "\n",
    "    #datos guardados\n",
    "    usuario = 'jonatan_programa'\n",
    "    password = 'i_love_pasta'\n",
    "\n",
    "    if usuario == intento_usuario and password == intento_password:\n",
    "        print('Puedes Pasar')\n",
    "    else:\n",
    "        print('Usuario o Contraseña incorrectos')"
   ]
  },
  {
   "cell_type": "code",
   "execution_count": 92,
   "metadata": {},
   "outputs": [
    {
     "name": "stdout",
     "output_type": "stream",
     "text": [
      "Username: koala\n",
      "Password: 123\n",
      "Usuario o Contraseña incorrectos\n"
     ]
    }
   ],
   "source": [
    "LogIn()"
   ]
  },
  {
   "cell_type": "markdown",
   "metadata": {},
   "source": [
    "### CRECIMIENTO EXPONENCIAL"
   ]
  },
  {
   "cell_type": "code",
   "execution_count": 100,
   "metadata": {},
   "outputs": [],
   "source": [
    "import matplotlib.pyplot as plt"
   ]
  },
  {
   "cell_type": "code",
   "execution_count": 109,
   "metadata": {},
   "outputs": [],
   "source": [
    "prestamo = 30000\n",
    "tasa_interes_mensual = .07\n",
    "tiempo = range(13)\n",
    "trabajo = 8000"
   ]
  },
  {
   "cell_type": "code",
   "execution_count": 110,
   "metadata": {},
   "outputs": [],
   "source": [
    "def interes_compuesto(capital_inicial,interes,tiempo):\n",
    "        ic = capital_inicial*(1+interes)**tiempo\n",
    "        return ic"
   ]
  },
  {
   "cell_type": "code",
   "execution_count": 111,
   "metadata": {},
   "outputs": [],
   "source": [
    "historia_deuda = []\n",
    "for t in tiempo:\n",
    "    historia_deuda.append(interes_compuesto(prestamo,tasa_interes_mensual,t))"
   ]
  },
  {
   "cell_type": "code",
   "execution_count": 112,
   "metadata": {},
   "outputs": [
    {
     "data": {
      "image/png": "[encoded data removed]",
      "text/plain": [
       "<Figure size 720x576 with 1 Axes>"
      ]
     },
     "metadata": {
      "needs_background": "light"
     },
     "output_type": "display_data"
    }
   ],
   "source": [
    "plt.figure(figsize = (10,8))\n",
    "plt.title(f'Serie de tiempo de mi deuda inicial {prestamo} con tasa mensual de {tasa_interes_mensual*100}%')\n",
    "plt.xlabel('Tiempo (meses)')\n",
    "plt.ylabel('Dinero')\n",
    "plt.plot(tiempo,historia_deuda,'r--')\n",
    "plt.show()"
   ]
  },
  {
   "cell_type": "markdown",
   "metadata": {},
   "source": [
    "### Programación Orientada a Objetos"
   ]
  }
 ],
 "metadata": {
  "kernelspec": {
   "display_name": "Python 3",
   "language": "python",
   "name": "python3"
  },
  "language_info": {
   "codemirror_mode": {
    "name": "ipython",
    "version": 3
   },
   "file_extension": ".py",
   "mimetype": "text/x-python",
   "name": "python",
   "nbconvert_exporter": "python",
   "pygments_lexer": "ipython3",
   "version": "3.8.5"
  }
 },
 "nbformat": 4,
 "nbformat_minor": 4
}
